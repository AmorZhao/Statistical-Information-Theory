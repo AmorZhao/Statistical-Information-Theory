{
 "cells": [
  {
   "cell_type": "markdown",
   "id": "a926d2ab",
   "metadata": {},
   "source": [
    "# Tutorial 2\n",
    "## Shannon codes\n",
    "\n",
    "> Arrange the messages of length N in order of decreasing probability and suppose their probabilities are\n",
    "$p_1 \\ge p_2 \\ge  ... p_n$. Let $P_s = \\sum_1^{s-1} p_i$; that is $P_s$ is the cumulative probability up to, but not including, $p_s$.\n",
    "We first encode into a binary system. The binary code for message s is obtained by expanding $P_s$ as a binary number. The expansion is carried out to $m_s$ places, where $m_s$ is the integer satisfying:\n",
    "$$\\log_2 \\frac{1}{p_s} \\le m_s \\le 1 + \\log_2 \\frac{1}{p_s}$$\n",
    "Thus the messages of high probability are represented by short codes and those of low probability by long codes.\n",
    "\n",
    "(See the proof to Theorem 9 in the [paper](https://archive.org/details/ost-engineering-shannon1948))\n"
   ]
  },
  {
   "cell_type": "code",
   "execution_count": 1,
   "id": "c9a7395c",
   "metadata": {},
   "outputs": [],
   "source": [
    "from typing import Any, List, Dict\n",
    "from collections import Counter, OrderedDict\n",
    "from math import log2, ceil\n",
    "from numpy import cumsum"
   ]
  },
  {
   "cell_type": "code",
   "execution_count": 2,
   "id": "f86181c8",
   "metadata": {},
   "outputs": [],
   "source": [
    "alphabet = \"abcdefghijklmnopqrstuvwxyz0123456789\""
   ]
  },
  {
   "cell_type": "code",
   "execution_count": 3,
   "id": "e828fdbe",
   "metadata": {},
   "outputs": [],
   "source": [
    "def infinite_shannon() -> str:\n",
    "\n",
    "    text = ''\n",
    "    with open('shannon1948.txt', 'r') as f:\n",
    "        text = f.read()\n",
    "    text = text.lower()\n",
    "    text = [ t for t in text if t in alphabet ]\n",
    "    return text\n",
    "\n",
    "text = infinite_shannon()"
   ]
  },
  {
   "cell_type": "markdown",
   "id": "2d443dbe",
   "metadata": {},
   "source": [
    "### 1. Cumulative probability"
   ]
  },
  {
   "cell_type": "code",
   "execution_count": 4,
   "id": "cc3489ac",
   "metadata": {},
   "outputs": [],
   "source": [
    "def get_freqs(text: str) -> Dict[chr, int]:\n",
    "    counts = dict(Counter(text))\n",
    "    total  = sum([ c for _,c in counts.items() ])\n",
    "    freqs  = { x: c/total for x,c in counts.items() }\n",
    "    \n",
    "    return freqs\n",
    "    \n",
    "def sort_dict(d):\n",
    "    return OrderedDict(sorted(d.items(), \n",
    "                              key = lambda kv: kv[1],\n",
    "                              reverse = True))\n",
    "                       \n",
    "def cum_prob(freqs: Dict[chr, int]) -> Dict[chr, float]:\n",
    "    p = sort_dict(freqs)\n",
    "    f = [0] + list(cumsum(list(p.values())[:-1]))\n",
    "    \n",
    "    return OrderedDict(zip(p.keys(), f))\n"
   ]
  },
  {
   "cell_type": "markdown",
   "id": "5fab08aa",
   "metadata": {},
   "source": [
    "### 2. Binary encoding"
   ]
  },
  {
   "cell_type": "code",
   "execution_count": 5,
   "id": "9189e0e0",
   "metadata": {},
   "outputs": [],
   "source": [
    "def __bin_tests(get_binary):\n",
    "    decs = [ 1/2, 3/4, 1/4, 1/8, 5/8, 7/8, 15/16 ]\n",
    "    bins = [ '1000', '1100', '0100', '0010', '1010', '1110', '1111' ]\n",
    "    return all([ get_binary(d, 4) == b for d,b in zip(decs, bins) ])"
   ]
  },
  {
   "cell_type": "code",
   "execution_count": 6,
   "id": "54a6ddd0",
   "metadata": {},
   "outputs": [],
   "source": [
    "def get_binary(f: float, L: int) -> str:\n",
    "    bs = []\n",
    "    prob = f\n",
    "    for i in range(L):\n",
    "        prob = prob * 2\n",
    "        bs.append(int(prob))\n",
    "        prob = prob - int(prob)\n",
    "    return ''.join(str(b) for b in bs)\n",
    "\n",
    "def get_shannon_codeword(p: float, f: float) -> str:\n",
    "    l = ceil(log2(1.0/p))\n",
    "    return get_binary(f, l)\n",
    "\n",
    "def shannon_code_dict(freqs: Dict[chr, int]) -> Dict[chr, str]:\n",
    "    f = cum_prob(freqs)\n",
    "    \n",
    "    c = { k: get_shannon_codeword(freqs[k], f[k])\n",
    "          for k in freqs.keys() }\n",
    "    \n",
    "    return c"
   ]
  },
  {
   "cell_type": "markdown",
   "id": "2b7cf0c1",
   "metadata": {},
   "source": [
    "Now we can finally encode the message:"
   ]
  },
  {
   "cell_type": "code",
   "execution_count": 7,
   "id": "cc0110c8",
   "metadata": {},
   "outputs": [],
   "source": [
    "def shannon_encode(text: str) -> str:\n",
    "    freqs = get_freqs(text)\n",
    "    codes = shannon_code_dict(freqs)\n",
    "    \n",
    "    return [ codes[x] for x in text ]"
   ]
  },
  {
   "cell_type": "code",
   "execution_count": 8,
   "id": "1fc64dac",
   "metadata": {},
   "outputs": [],
   "source": [
    "def encode(text: str, codes: Dict[chr, str]) -> str:\n",
    "    \n",
    "    return [ codes[x] for x in text ]"
   ]
  },
  {
   "cell_type": "markdown",
   "id": "6e0b3653-4cdc-4af2-8779-9eb5747e87c5",
   "metadata": {},
   "source": [
    "### Step 3: Binary decoding\n"
   ]
  },
  {
   "cell_type": "code",
   "execution_count": 9,
   "id": "bb2548d1-60aa-4236-b10d-746753e975de",
   "metadata": {},
   "outputs": [],
   "source": [
    "def decode(coded: str, codes: Dict[chr, str]) -> str:\n",
    "    inv_code = {v: k for k, v in codes.items()}\n",
    "    return [ inv_code[x] for x in coded ]"
   ]
  },
  {
   "cell_type": "markdown",
   "id": "94cc1ca9",
   "metadata": {},
   "source": [
    "### Examples \n",
    "\n",
    "You may want to test your implementation first. Below is an example from Shannon's paper (Section 10 _Discussion and Examples_, p18):"
   ]
  },
  {
   "cell_type": "code",
   "execution_count": 10,
   "id": "6061f2b8",
   "metadata": {},
   "outputs": [],
   "source": [
    "def dictify(keys, values):\n",
    "    return dict(zip(keys, values))"
   ]
  },
  {
   "cell_type": "code",
   "execution_count": 46,
   "id": "77150828",
   "metadata": {},
   "outputs": [],
   "source": [
    "def example(your_code_fn):\n",
    "    alph = [ 'a', 'b', 'c', 'd' ]\n",
    "    prob = [ 1/2, 1/4, 1/8, 1/8 ]\n",
    "    code = [ '0', '10', '110', '111' ] \n",
    "    \n",
    "    ps = dict(zip(alph, prob))\n",
    "    cs = your_code_fn(ps)\n",
    "    \n",
    "    return all([ c == cs[k] for c, k in zip(code, alph) ])"
   ]
  },
  {
   "cell_type": "code",
   "execution_count": 47,
   "id": "1d006570",
   "metadata": {},
   "outputs": [
    {
     "data": {
      "text/plain": [
       "True"
      ]
     },
     "execution_count": 47,
     "metadata": {},
     "output_type": "execute_result"
    }
   ],
   "source": [
    "example(shannon_code_dict)"
   ]
  },
  {
   "cell_type": "markdown",
   "id": "6e607cde",
   "metadata": {},
   "source": [
    "### Testing your code\n",
    "A few sanity checks... you want to check all codewords are different from each other and none is the prefix of another."
   ]
  },
  {
   "cell_type": "code",
   "execution_count": 57,
   "id": "894f4304",
   "metadata": {},
   "outputs": [],
   "source": [
    "def __unique(codes):\n",
    "    \n",
    "    return sorted(codes) == sorted(set(codes))\n",
    "\n",
    "def __prefix_free(codes):\n",
    "    \n",
    "    for c in codes:\n",
    "        if any([d.startswith(c) for d in codes\n",
    "                                if c != d]):\n",
    "            return False\n",
    "        \n",
    "    return True\n",
    "\n",
    "def __entropy(freqs, codes):\n",
    "    \n",
    "    H = sum( -p * log2(p) for p in freqs.values() )\n",
    "    print(f\"Entropy of the distribution is: {H}\")\n",
    "    L = sum( freqs[k]*len(codes[k]) for k in freqs.keys())\n",
    "    print(f\"Mean code length: {L}\")\n",
    "    \n",
    "    return H < L"
   ]
  },
  {
   "cell_type": "markdown",
   "id": "eeaa3b1e",
   "metadata": {},
   "source": [
    "Now try it out on Shannon's paper!"
   ]
  },
  {
   "cell_type": "code",
   "execution_count": 58,
   "id": "035028cc",
   "metadata": {},
   "outputs": [],
   "source": [
    "ps = get_freqs(text)\n",
    "fs = cum_prob(ps)\n",
    "cs = shannon_code_dict(ps)"
   ]
  },
  {
   "cell_type": "code",
   "execution_count": 59,
   "id": "a15c02bf",
   "metadata": {},
   "outputs": [],
   "source": [
    "probs = get_freqs(text)\n",
    "codes = shannon_code_dict(probs)\n",
    "coded = encode(text, codes)\n",
    "\n",
    "text2 = decode(coded, codes)"
   ]
  },
  {
   "cell_type": "code",
   "execution_count": 60,
   "id": "a396543f",
   "metadata": {},
   "outputs": [
    {
     "name": "stdout",
     "output_type": "stream",
     "text": [
      "Entropy of the distribution is: 4.26702362984071\n",
      "Mean code length: 4.755448369685245\n"
     ]
    },
    {
     "data": {
      "text/plain": [
       "True"
      ]
     },
     "execution_count": 60,
     "metadata": {},
     "output_type": "execute_result"
    }
   ],
   "source": [
    "all([__prefix_free(codes),\n",
    "     __unique(codes),\n",
    "     __entropy(ps, codes)])"
   ]
  },
  {
   "cell_type": "code",
   "execution_count": 61,
   "id": "6fc2c04e-5a3c-465f-918f-63cf4028c158",
   "metadata": {},
   "outputs": [
    {
     "data": {
      "text/plain": [
       "True"
      ]
     },
     "execution_count": 61,
     "metadata": {},
     "output_type": "execute_result"
    }
   ],
   "source": [
    "text == text2"
   ]
  },
  {
   "cell_type": "markdown",
   "id": "ca329cef",
   "metadata": {},
   "source": [
    "## Huffman code\n",
    "\n",
    "### Step 1: build tree\n"
   ]
  },
  {
   "cell_type": "code",
   "execution_count": 62,
   "id": "e196e7c0-5f80-4c7d-959b-2ca176a66a64",
   "metadata": {},
   "outputs": [],
   "source": [
    "class Node():\n",
    "    def __init__(self, l: 'Node' = None, r: 'Node' = None,\n",
    "                       p: 'Node '= None, lab: str = ''):\n",
    "        self.l = l\n",
    "        self.r = r\n",
    "        self.p = p\n",
    "        self.lab = lab\n",
    "\n",
    "    def children(self):\n",
    "        return self.l, self.r\n",
    "    \n",
    "    def parent(self):\n",
    "        return self.p\n",
    "    \n",
    "    def __str__(self):\n",
    "        if self.lab:\n",
    "            return self.lab\n",
    "        else:\n",
    "            return f\"(L: {str(self.l)}, R: {str(self.r)})\""
   ]
  },
  {
   "cell_type": "code",
   "execution_count": 63,
   "id": "76ff7a30-2a74-444c-937f-4c1c7d1729bb",
   "metadata": {},
   "outputs": [],
   "source": [
    "def build_tree(freqs: Dict[chr, float]) -> 'Node':\n",
    "    nodes = [(Node(lab = c), p) for c, p in freqs.items()]\n",
    "    nodes = sorted(nodes, key=lambda x: x[1], reverse=True)\n",
    "    while len(nodes) > 1:\n",
    "        (n1, p1) = nodes[-1]\n",
    "        (n2, p2) = nodes[-2]\n",
    "        nodes = nodes[:-2]\n",
    "        node = Node(l = n1, r = n2)\n",
    "        nodes.append((node, p1 + p2)) \n",
    "        nodes = sorted(nodes, key=lambda x: x[1], reverse=True)\n",
    "\n",
    "    return nodes[0][0]"
   ]
  },
  {
   "cell_type": "markdown",
   "id": "48592f7c-8267-4733-9e88-3449279f2dcf",
   "metadata": {},
   "source": [
    "### Step 2: find code\n"
   ]
  },
  {
   "cell_type": "code",
   "execution_count": 64,
   "id": "6aa25d2b",
   "metadata": {},
   "outputs": [],
   "source": [
    "def huffman_code_dict(tree: 'Node', codeword: str = '') -> Dict[chr, str]:\n",
    "    if tree.lab:\n",
    "        return {tree.lab: codeword}\n",
    "    (l, r) = tree.children()\n",
    "    codes = dict()\n",
    "    codes.update(huffman_code_dict(l, codeword + '0'))\n",
    "    codes.update(huffman_code_dict(r, codeword + '1'))\n",
    "    return codes"
   ]
  },
  {
   "cell_type": "markdown",
   "id": "28efdc24",
   "metadata": {},
   "source": [
    "### Examples \n",
    "\n",
    "You may want to test your implementation first. Here is an example:"
   ]
  },
  {
   "cell_type": "code",
   "execution_count": 73,
   "id": "aa2a3268",
   "metadata": {},
   "outputs": [],
   "source": [
    "def example1():\n",
    "    alph = [ 'a', 'b', 'c', 'd', 'e' ]\n",
    "    prob = [ 1/4, 1/4, 1/5, 3/20, 3/20 ]\n",
    "    code = [ '00', '10', '11', '010', '011' ] \n",
    "    \n",
    "    return dictify(alph, prob), dictify(alph, code)"
   ]
  },
  {
   "cell_type": "markdown",
   "id": "4f0c4da9",
   "metadata": {},
   "source": [
    "And another, taken directly from Huffman's paper:"
   ]
  },
  {
   "cell_type": "code",
   "execution_count": 96,
   "id": "74058a17",
   "metadata": {},
   "outputs": [],
   "source": [
    "def example2():\n",
    "    alph = [ str(i) for i in range(1, 14) ]\n",
    "    prob = [ 0.2, 0.18, 0.1, 0.1, 0.1, 0.06, 0.06, 0.04, 0.04, 0.04, 0.04, 0.03, 0.01 ]\n",
    "    code = [ '10', '000', '011', '110', '111', '0101', '00100', \n",
    "            '00101', '01000', '01001', '00110', '001110', '001111']\n",
    "    \n",
    "    return dictify(alph, prob), dictify(alph, code)"
   ]
  },
  {
   "cell_type": "code",
   "execution_count": 102,
   "id": "acf42470",
   "metadata": {},
   "outputs": [
    {
     "data": {
      "text/plain": [
       "True"
      ]
     },
     "execution_count": 102,
     "metadata": {},
     "output_type": "execute_result"
    }
   ],
   "source": [
    "freq, example_code = example2()\n",
    "root = build_tree(freq)\n",
    "encoding = huffman_code_dict(root)\n",
    "\n",
    "# The code is not unique, but the lengths are\n",
    "all(len(encoding[k]) == len(example_code[k]) for k in encoding)"
   ]
  },
  {
   "cell_type": "markdown",
   "id": "686e278a-0ae1-4cf3-ba27-b8c7495dbf08",
   "metadata": {},
   "source": [
    "Encoding Shannon's paper"
   ]
  },
  {
   "cell_type": "code",
   "execution_count": 103,
   "id": "e907dc64",
   "metadata": {},
   "outputs": [],
   "source": [
    "freqs = get_freqs(text)\n",
    "root = build_tree(freqs)\n",
    "codes = huffman_code_dict(root)"
   ]
  },
  {
   "cell_type": "code",
   "execution_count": 104,
   "id": "dbe90ce1-5f23-4502-93e2-031d3296a4e8",
   "metadata": {},
   "outputs": [],
   "source": [
    "coded = encode(text, codes)\n",
    "text2 = decode(coded, codes)"
   ]
  },
  {
   "cell_type": "code",
   "execution_count": 105,
   "id": "bab9920a",
   "metadata": {},
   "outputs": [
    {
     "name": "stdout",
     "output_type": "stream",
     "text": [
      "Entropy of the distribution is: 4.26702362984071\n",
      "Mean code length: 4.29428705200576\n"
     ]
    },
    {
     "data": {
      "text/plain": [
       "(True, True, True)"
      ]
     },
     "execution_count": 105,
     "metadata": {},
     "output_type": "execute_result"
    }
   ],
   "source": [
    "(__prefix_free(codes), __unique(codes), __entropy(freqs, codes))"
   ]
  },
  {
   "cell_type": "code",
   "execution_count": 106,
   "id": "c609a896-cd03-4b17-9e13-ba80af901f01",
   "metadata": {},
   "outputs": [
    {
     "data": {
      "text/plain": [
       "True"
      ]
     },
     "execution_count": 106,
     "metadata": {},
     "output_type": "execute_result"
    }
   ],
   "source": [
    "text == text2"
   ]
  },
  {
   "cell_type": "code",
   "execution_count": null,
   "id": "ba72f41e-5301-4bf6-8e90-f775dcb49f9d",
   "metadata": {},
   "outputs": [],
   "source": []
  }
 ],
 "metadata": {
  "kernelspec": {
   "display_name": "Python 3 (ipykernel)",
   "language": "python",
   "name": "python3"
  },
  "language_info": {
   "codemirror_mode": {
    "name": "ipython",
    "version": 3
   },
   "file_extension": ".py",
   "mimetype": "text/x-python",
   "name": "python",
   "nbconvert_exporter": "python",
   "pygments_lexer": "ipython3",
   "version": "3.10.12"
  }
 },
 "nbformat": 4,
 "nbformat_minor": 5
}
